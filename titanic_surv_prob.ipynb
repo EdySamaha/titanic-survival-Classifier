{
  "nbformat": 4,
  "nbformat_minor": 0,
  "metadata": {
    "colab": {
      "name": "titanic_Dar_problem.ipynb",
      "provenance": [],
      "collapsed_sections": []
    },
    "kernelspec": {
      "name": "python3",
      "display_name": "Python 3"
    }
  },
  "cells": [
    {
      "cell_type": "code",
      "metadata": {
        "id": "asqaPpTnsMut",
        "colab_type": "code",
        "outputId": "1c5a179c-da27-478c-c5eb-306d3ced4c63",
        "colab": {
          "base_uri": "https://localhost:8080/",
          "height": 34
        }
      },
      "source": [
        "import numpy as np\n",
        "import pandas as pd\n",
        "import matplotlib.pyplot as plt\n",
        "import seaborn as sns; sns.set(font_scale=1.2) # setting seaborn default for plots\n",
        "%matplotlib inline\n",
        "print('imported successfully')"
      ],
      "execution_count": 0,
      "outputs": [
        {
          "output_type": "stream",
          "text": [
            "imported successfully\n"
          ],
          "name": "stdout"
        }
      ]
    },
    {
      "cell_type": "code",
      "metadata": {
        "id": "EQsTJvoyymvQ",
        "colab_type": "code",
        "outputId": "ac95e1a9-9bc4-4226-eb7b-c1908ecafb4a",
        "colab": {
          "base_uri": "https://localhost:8080/",
          "height": 247
        }
      },
      "source": [
        "#importing the dataset NOTE: to get files from dektop, you can do Inser->Code snippet->Files->Upload\n",
        "dataset = pd.read_csv('train.csv')\n",
        "dataset=dataset[dataset['Embarked'].notnull()] #drops null value in column\n",
        "dataset.head() #prints the dataset table below (do .head() to only get first 5 rows)"
      ],
      "execution_count": 0,
      "outputs": [
        {
          "output_type": "execute_result",
          "data": {
            "text/html": [
              "<div>\n",
              "<style scoped>\n",
              "    .dataframe tbody tr th:only-of-type {\n",
              "        vertical-align: middle;\n",
              "    }\n",
              "\n",
              "    .dataframe tbody tr th {\n",
              "        vertical-align: top;\n",
              "    }\n",
              "\n",
              "    .dataframe thead th {\n",
              "        text-align: right;\n",
              "    }\n",
              "</style>\n",
              "<table border=\"1\" class=\"dataframe\">\n",
              "  <thead>\n",
              "    <tr style=\"text-align: right;\">\n",
              "      <th></th>\n",
              "      <th>PassengerId</th>\n",
              "      <th>Survived</th>\n",
              "      <th>Pclass</th>\n",
              "      <th>Name</th>\n",
              "      <th>Sex</th>\n",
              "      <th>Age</th>\n",
              "      <th>SibSp</th>\n",
              "      <th>Parch</th>\n",
              "      <th>Ticket</th>\n",
              "      <th>Fare</th>\n",
              "      <th>Cabin</th>\n",
              "      <th>Embarked</th>\n",
              "    </tr>\n",
              "  </thead>\n",
              "  <tbody>\n",
              "    <tr>\n",
              "      <th>0</th>\n",
              "      <td>1</td>\n",
              "      <td>0</td>\n",
              "      <td>3</td>\n",
              "      <td>Braund, Mr. Owen Harris</td>\n",
              "      <td>male</td>\n",
              "      <td>22.0</td>\n",
              "      <td>1</td>\n",
              "      <td>0</td>\n",
              "      <td>A/5 21171</td>\n",
              "      <td>7.2500</td>\n",
              "      <td>NaN</td>\n",
              "      <td>S</td>\n",
              "    </tr>\n",
              "    <tr>\n",
              "      <th>1</th>\n",
              "      <td>2</td>\n",
              "      <td>1</td>\n",
              "      <td>1</td>\n",
              "      <td>Cumings, Mrs. John Bradley (Florence Briggs Th...</td>\n",
              "      <td>female</td>\n",
              "      <td>38.0</td>\n",
              "      <td>1</td>\n",
              "      <td>0</td>\n",
              "      <td>PC 17599</td>\n",
              "      <td>71.2833</td>\n",
              "      <td>C85</td>\n",
              "      <td>C</td>\n",
              "    </tr>\n",
              "    <tr>\n",
              "      <th>2</th>\n",
              "      <td>3</td>\n",
              "      <td>1</td>\n",
              "      <td>3</td>\n",
              "      <td>Heikkinen, Miss. Laina</td>\n",
              "      <td>female</td>\n",
              "      <td>26.0</td>\n",
              "      <td>0</td>\n",
              "      <td>0</td>\n",
              "      <td>STON/O2. 3101282</td>\n",
              "      <td>7.9250</td>\n",
              "      <td>NaN</td>\n",
              "      <td>S</td>\n",
              "    </tr>\n",
              "    <tr>\n",
              "      <th>3</th>\n",
              "      <td>4</td>\n",
              "      <td>1</td>\n",
              "      <td>1</td>\n",
              "      <td>Futrelle, Mrs. Jacques Heath (Lily May Peel)</td>\n",
              "      <td>female</td>\n",
              "      <td>35.0</td>\n",
              "      <td>1</td>\n",
              "      <td>0</td>\n",
              "      <td>113803</td>\n",
              "      <td>53.1000</td>\n",
              "      <td>C123</td>\n",
              "      <td>S</td>\n",
              "    </tr>\n",
              "    <tr>\n",
              "      <th>4</th>\n",
              "      <td>5</td>\n",
              "      <td>0</td>\n",
              "      <td>3</td>\n",
              "      <td>Allen, Mr. William Henry</td>\n",
              "      <td>male</td>\n",
              "      <td>35.0</td>\n",
              "      <td>0</td>\n",
              "      <td>0</td>\n",
              "      <td>373450</td>\n",
              "      <td>8.0500</td>\n",
              "      <td>NaN</td>\n",
              "      <td>S</td>\n",
              "    </tr>\n",
              "  </tbody>\n",
              "</table>\n",
              "</div>"
            ],
            "text/plain": [
              "   PassengerId  Survived  Pclass  ...     Fare Cabin  Embarked\n",
              "0            1         0       3  ...   7.2500   NaN         S\n",
              "1            2         1       1  ...  71.2833   C85         C\n",
              "2            3         1       3  ...   7.9250   NaN         S\n",
              "3            4         1       1  ...  53.1000  C123         S\n",
              "4            5         0       3  ...   8.0500   NaN         S\n",
              "\n",
              "[5 rows x 12 columns]"
            ]
          },
          "metadata": {
            "tags": []
          },
          "execution_count": 882
        }
      ]
    },
    {
      "cell_type": "code",
      "metadata": {
        "id": "SNhCS8g16xv4",
        "colab_type": "code",
        "outputId": "b548e11a-b245-4014-db04-8e125830dbd1",
        "colab": {
          "base_uri": "https://localhost:8080/",
          "height": 671
        }
      },
      "source": [
        "#generate heatmap to see relation between Survival and other factors\n",
        "fig,ax = plt.subplots(figsize=(10, 10))\n",
        "sns.heatmap(dataset.corr(), annot=True, fmt='.2f', ax=ax) #data.corr() is correlation of all data items ; annot=True prints correlation values inside the heatmap, fmt='.2f' prints only two decimal numbers\n",
        "plt.show()"
      ],
      "execution_count": 0,
      "outputs": [
        {
          "output_type": "display_data",
          "data": {
            "image/png": "[encoded data removed]",
            "text/plain": [
              "<Figure size 720x720 with 2 Axes>"
            ]
          },
          "metadata": {
            "tags": []
          }
        }
      ]
    },
    {
      "cell_type": "code",
      "metadata": {
        "id": "431QiHEj6ruM",
        "colab_type": "code",
        "outputId": "58d846d6-c4ed-4433-b71f-52a591e3f156",
        "colab": {
          "base_uri": "https://localhost:8080/",
          "height": 197
        }
      },
      "source": [
        "#Label encoding\n",
        "from sklearn import preprocessing\n",
        "encoder = preprocessing.LabelEncoder() \n",
        "\n",
        "#encoding sex\n",
        "encoder.fit(dataset['Sex']) #if problem, try adding encoder= at beginning OR RUN CODES FROM BEGINNING\n",
        "dataset['Sex']=encoder.transform(dataset['Sex'])\n",
        "list(encoder.classes_) #see what (/how many) values were encoded\n",
        "\n",
        "#IF MANUALLY\n",
        "# sex_encoding = {\"male\": 0, \"female\": 1}\n",
        "# for data in dataset:\n",
        "#     data['Sex'] = data['Sex'].map(sex_encoding)\n",
        "#     DON'T FORGET TO DO dataset['Sex']=data['Sex'] to modify actual set (like below with data2)\n",
        "\n",
        "    \n",
        "# encoding fare \n",
        "# for data in dataset:\n",
        "#     data.loc[dataset['Fare'] <= 18, 'Fare'] = 0,\n",
        "#     data.loc[(dataset['Fare'] > 18) & (data['Fare'] <= 30), 'Fare'] = 1,\n",
        "#     data.loc[(dataset['Fare'] > 30) & (data['Fare'] <= 60), 'Fare'] = 2,\n",
        "#     data.loc[(dataset['Fare'] > 60) & (data['Fare'] <= 110), 'Fare'] = 3,\n",
        "#     data.loc[dataset['Fare'] >= 100, 'Fare'] = 4\n",
        "\n",
        "\n",
        "#encoding name\n",
        "sep = ',';\n",
        "data2 = [] #temp array used to modify dataset in for loop\n",
        "for data in dataset['Name']:\n",
        "  data2.append(data.split(sep, 1)[0]) #seperating string in Name column and keeping first part\n",
        "  #print(data)\n",
        "dataset['Name'] = data2\n",
        "\n",
        "#dataset['Name']=dataset['Name'].apply(lambda x : x.split(sep, 1)[0]) #ALTERNATIVE WAY TO for loop above\n",
        "\n",
        "encoder.fit(dataset['Name']) #if problem, try adding encoder= at beginning OR RUN CODES FROM BEGINNING\n",
        "dataset['Name']=encoder.transform(dataset['Name'])\n",
        "\n",
        "\n",
        "#encode Embarked\n",
        "encoder.fit(dataset['Embarked'])\n",
        "dataset['Embarked']=encoder.transform(dataset['Embarked'])\n",
        "\n",
        "\n",
        "dataset.head()"
      ],
      "execution_count": 0,
      "outputs": [
        {
          "output_type": "execute_result",
          "data": {
            "text/html": [
              "<div>\n",
              "<style scoped>\n",
              "    .dataframe tbody tr th:only-of-type {\n",
              "        vertical-align: middle;\n",
              "    }\n",
              "\n",
              "    .dataframe tbody tr th {\n",
              "        vertical-align: top;\n",
              "    }\n",
              "\n",
              "    .dataframe thead th {\n",
              "        text-align: right;\n",
              "    }\n",
              "</style>\n",
              "<table border=\"1\" class=\"dataframe\">\n",
              "  <thead>\n",
              "    <tr style=\"text-align: right;\">\n",
              "      <th></th>\n",
              "      <th>PassengerId</th>\n",
              "      <th>Survived</th>\n",
              "      <th>Pclass</th>\n",
              "      <th>Name</th>\n",
              "      <th>Sex</th>\n",
              "      <th>Age</th>\n",
              "      <th>SibSp</th>\n",
              "      <th>Parch</th>\n",
              "      <th>Ticket</th>\n",
              "      <th>Fare</th>\n",
              "      <th>Cabin</th>\n",
              "      <th>Embarked</th>\n",
              "    </tr>\n",
              "  </thead>\n",
              "  <tbody>\n",
              "    <tr>\n",
              "      <th>0</th>\n",
              "      <td>1</td>\n",
              "      <td>0</td>\n",
              "      <td>3</td>\n",
              "      <td>73</td>\n",
              "      <td>1</td>\n",
              "      <td>22.0</td>\n",
              "      <td>1</td>\n",
              "      <td>0</td>\n",
              "      <td>A/5 21171</td>\n",
              "      <td>7.2500</td>\n",
              "      <td>NaN</td>\n",
              "      <td>2</td>\n",
              "    </tr>\n",
              "    <tr>\n",
              "      <th>1</th>\n",
              "      <td>2</td>\n",
              "      <td>1</td>\n",
              "      <td>1</td>\n",
              "      <td>136</td>\n",
              "      <td>0</td>\n",
              "      <td>38.0</td>\n",
              "      <td>1</td>\n",
              "      <td>0</td>\n",
              "      <td>PC 17599</td>\n",
              "      <td>71.2833</td>\n",
              "      <td>C85</td>\n",
              "      <td>0</td>\n",
              "    </tr>\n",
              "    <tr>\n",
              "      <th>2</th>\n",
              "      <td>3</td>\n",
              "      <td>1</td>\n",
              "      <td>3</td>\n",
              "      <td>251</td>\n",
              "      <td>0</td>\n",
              "      <td>26.0</td>\n",
              "      <td>0</td>\n",
              "      <td>0</td>\n",
              "      <td>STON/O2. 3101282</td>\n",
              "      <td>7.9250</td>\n",
              "      <td>NaN</td>\n",
              "      <td>2</td>\n",
              "    </tr>\n",
              "    <tr>\n",
              "      <th>3</th>\n",
              "      <td>4</td>\n",
              "      <td>1</td>\n",
              "      <td>1</td>\n",
              "      <td>198</td>\n",
              "      <td>0</td>\n",
              "      <td>35.0</td>\n",
              "      <td>1</td>\n",
              "      <td>0</td>\n",
              "      <td>113803</td>\n",
              "      <td>53.1000</td>\n",
              "      <td>C123</td>\n",
              "      <td>2</td>\n",
              "    </tr>\n",
              "    <tr>\n",
              "      <th>4</th>\n",
              "      <td>5</td>\n",
              "      <td>0</td>\n",
              "      <td>3</td>\n",
              "      <td>11</td>\n",
              "      <td>1</td>\n",
              "      <td>35.0</td>\n",
              "      <td>0</td>\n",
              "      <td>0</td>\n",
              "      <td>373450</td>\n",
              "      <td>8.0500</td>\n",
              "      <td>NaN</td>\n",
              "      <td>2</td>\n",
              "    </tr>\n",
              "  </tbody>\n",
              "</table>\n",
              "</div>"
            ],
            "text/plain": [
              "   PassengerId  Survived  Pclass  ...     Fare  Cabin  Embarked\n",
              "0            1         0       3  ...   7.2500    NaN         2\n",
              "1            2         1       1  ...  71.2833    C85         0\n",
              "2            3         1       3  ...   7.9250    NaN         2\n",
              "3            4         1       1  ...  53.1000   C123         2\n",
              "4            5         0       3  ...   8.0500    NaN         2\n",
              "\n",
              "[5 rows x 12 columns]"
            ]
          },
          "metadata": {
            "tags": []
          },
          "execution_count": 884
        }
      ]
    },
    {
      "cell_type": "code",
      "metadata": {
        "id": "dI5GtSdMAGdt",
        "colab_type": "code",
        "outputId": "320ad8bd-bbef-43b5-b13b-4d476e29c113",
        "colab": {
          "base_uri": "https://localhost:8080/",
          "height": 448
        }
      },
      "source": [
        "#Dropping irrelevant columns\n",
        "dataset.drop(['Ticket'], axis=1, inplace=True) # delete feature from dataset ; axis=1 means column (0 for row)\n",
        "dataset.drop(['Cabin'], axis=1, inplace=True)\n",
        "\n",
        "#making everything numeric first\n",
        "temp=dataset[dataset.columns]\n",
        "temp=temp.convert_objects(convert_numeric=True)\n",
        "temp.head()\n",
        "\n",
        "#replacing null values by mean (the text elements should be encoded and replaced first)\n",
        "dataset.isnull().sum() #to see how much null values we have in each column\n",
        "for i in temp.columns:\n",
        "  dataset[i]=temp[i].fillna(temp[i].mean())\n",
        "  print(dataset[i].isnull().sum())\n",
        "\n",
        "\n",
        "dataset.head()"
      ],
      "execution_count": 0,
      "outputs": [
        {
          "output_type": "stream",
          "text": [
            "0\n",
            "0\n",
            "0\n",
            "0\n",
            "0\n",
            "0\n",
            "0\n",
            "0\n",
            "0\n",
            "0\n"
          ],
          "name": "stdout"
        },
        {
          "output_type": "stream",
          "text": [
            "/usr/local/lib/python3.6/dist-packages/ipykernel_launcher.py:6: FutureWarning: convert_objects is deprecated.  To re-infer data dtypes for object columns, use DataFrame.infer_objects()\n",
            "For all other conversions use the data-type specific converters pd.to_datetime, pd.to_timedelta and pd.to_numeric.\n",
            "  \n"
          ],
          "name": "stderr"
        },
        {
          "output_type": "execute_result",
          "data": {
            "text/html": [
              "<div>\n",
              "<style scoped>\n",
              "    .dataframe tbody tr th:only-of-type {\n",
              "        vertical-align: middle;\n",
              "    }\n",
              "\n",
              "    .dataframe tbody tr th {\n",
              "        vertical-align: top;\n",
              "    }\n",
              "\n",
              "    .dataframe thead th {\n",
              "        text-align: right;\n",
              "    }\n",
              "</style>\n",
              "<table border=\"1\" class=\"dataframe\">\n",
              "  <thead>\n",
              "    <tr style=\"text-align: right;\">\n",
              "      <th></th>\n",
              "      <th>PassengerId</th>\n",
              "      <th>Survived</th>\n",
              "      <th>Pclass</th>\n",
              "      <th>Name</th>\n",
              "      <th>Sex</th>\n",
              "      <th>Age</th>\n",
              "      <th>SibSp</th>\n",
              "      <th>Parch</th>\n",
              "      <th>Fare</th>\n",
              "      <th>Embarked</th>\n",
              "    </tr>\n",
              "  </thead>\n",
              "  <tbody>\n",
              "    <tr>\n",
              "      <th>0</th>\n",
              "      <td>1</td>\n",
              "      <td>0</td>\n",
              "      <td>3</td>\n",
              "      <td>73</td>\n",
              "      <td>1</td>\n",
              "      <td>22.0</td>\n",
              "      <td>1</td>\n",
              "      <td>0</td>\n",
              "      <td>7.2500</td>\n",
              "      <td>2</td>\n",
              "    </tr>\n",
              "    <tr>\n",
              "      <th>1</th>\n",
              "      <td>2</td>\n",
              "      <td>1</td>\n",
              "      <td>1</td>\n",
              "      <td>136</td>\n",
              "      <td>0</td>\n",
              "      <td>38.0</td>\n",
              "      <td>1</td>\n",
              "      <td>0</td>\n",
              "      <td>71.2833</td>\n",
              "      <td>0</td>\n",
              "    </tr>\n",
              "    <tr>\n",
              "      <th>2</th>\n",
              "      <td>3</td>\n",
              "      <td>1</td>\n",
              "      <td>3</td>\n",
              "      <td>251</td>\n",
              "      <td>0</td>\n",
              "      <td>26.0</td>\n",
              "      <td>0</td>\n",
              "      <td>0</td>\n",
              "      <td>7.9250</td>\n",
              "      <td>2</td>\n",
              "    </tr>\n",
              "    <tr>\n",
              "      <th>3</th>\n",
              "      <td>4</td>\n",
              "      <td>1</td>\n",
              "      <td>1</td>\n",
              "      <td>198</td>\n",
              "      <td>0</td>\n",
              "      <td>35.0</td>\n",
              "      <td>1</td>\n",
              "      <td>0</td>\n",
              "      <td>53.1000</td>\n",
              "      <td>2</td>\n",
              "    </tr>\n",
              "    <tr>\n",
              "      <th>4</th>\n",
              "      <td>5</td>\n",
              "      <td>0</td>\n",
              "      <td>3</td>\n",
              "      <td>11</td>\n",
              "      <td>1</td>\n",
              "      <td>35.0</td>\n",
              "      <td>0</td>\n",
              "      <td>0</td>\n",
              "      <td>8.0500</td>\n",
              "      <td>2</td>\n",
              "    </tr>\n",
              "  </tbody>\n",
              "</table>\n",
              "</div>"
            ],
            "text/plain": [
              "   PassengerId  Survived  Pclass  Name  ...  SibSp  Parch     Fare  Embarked\n",
              "0            1         0       3    73  ...      1      0   7.2500         2\n",
              "1            2         1       1   136  ...      1      0  71.2833         0\n",
              "2            3         1       3   251  ...      0      0   7.9250         2\n",
              "3            4         1       1   198  ...      1      0  53.1000         2\n",
              "4            5         0       3    11  ...      0      0   8.0500         2\n",
              "\n",
              "[5 rows x 10 columns]"
            ]
          },
          "metadata": {
            "tags": []
          },
          "execution_count": 885
        }
      ]
    },
    {
      "cell_type": "code",
      "metadata": {
        "id": "3jWeq_LaVuFh",
        "colab_type": "code",
        "outputId": "3ad98c3f-19fc-4f15-d051-b957bc5353f2",
        "colab": {
          "base_uri": "https://localhost:8080/",
          "height": 376
        }
      },
      "source": [
        "def bar_chart(feature):\n",
        "    survived = dataset[dataset['Survived']==1][feature].value_counts()\n",
        "    dead = dataset[dataset['Survived']==0][feature].value_counts()\n",
        "    chart = pd.DataFrame([survived,dead])\n",
        "    chart.index = ['Survived','Dead']\n",
        "    chart.plot(kind='bar',stacked=True, figsize=(10,5))\n",
        "    \n",
        "def showVal(feature):\n",
        "  print('\\n'+feature)\n",
        "  print(\"Survived :\\n\", dataset[dataset['Survived']==1][feature].value_counts())\n",
        "  print(\"Dead:\\n\", dataset[dataset['Survived']==0][feature].value_counts())\n",
        "    \n",
        "#bar_chart('Age') #the chart looks TERRIBLE\n",
        "bar_chart('Embarked')\n",
        "# showVal('Fare')"
      ],
      "execution_count": 0,
      "outputs": [
        {
          "output_type": "display_data",
          "data": {
            "image/png": "[encoded data removed]",
            "text/plain": [
              "<Figure size 720x360 with 1 Axes>"
            ]
          },
          "metadata": {
            "tags": []
          }
        }
      ]
    },
    {
      "cell_type": "code",
      "metadata": {
        "id": "g1xNTl6kFYoz",
        "colab_type": "code",
        "outputId": "a6c40df3-3727-4017-9d19-aba5e6f33aaf",
        "colab": {
          "base_uri": "https://localhost:8080/",
          "height": 727
        }
      },
      "source": [
        "showVal('Sex')\n",
        "showVal('Embarked')\n",
        "showVal('SibSp')\n",
        "# showVal('Age')"
      ],
      "execution_count": 0,
      "outputs": [
        {
          "output_type": "stream",
          "text": [
            "\n",
            "Sex\n",
            "Survived :\n",
            " 0    231\n",
            "1    109\n",
            "Name: Sex, dtype: int64\n",
            "Dead:\n",
            " 1    468\n",
            "0     81\n",
            "Name: Sex, dtype: int64\n",
            "\n",
            "Embarked\n",
            "Survived :\n",
            " 2    217\n",
            "0     93\n",
            "1     30\n",
            "Name: Embarked, dtype: int64\n",
            "Dead:\n",
            " 2    427\n",
            "0     75\n",
            "1     47\n",
            "Name: Embarked, dtype: int64\n",
            "\n",
            "SibSp\n",
            "Survived :\n",
            " 0    208\n",
            "1    112\n",
            "2     13\n",
            "3      4\n",
            "4      3\n",
            "Name: SibSp, dtype: int64\n",
            "Dead:\n",
            " 0    398\n",
            "1     97\n",
            "4     15\n",
            "2     15\n",
            "3     12\n",
            "8      7\n",
            "5      5\n",
            "Name: SibSp, dtype: int64\n"
          ],
          "name": "stdout"
        }
      ]
    },
    {
      "cell_type": "code",
      "metadata": {
        "id": "xld1MML66x4P",
        "colab_type": "code",
        "outputId": "d0e45b12-76cc-4b20-dcc6-c2b6bb7c367b",
        "colab": {
          "base_uri": "https://localhost:8080/",
          "height": 357
        }
      },
      "source": [
        "#splitting dataset to train and test (NOT test.csv use that to predict)\n",
        "from sklearn.model_selection import train_test_split\n",
        "X = dataset.iloc[:,2:].values  # store all columns (excpet first 2) as inputs in X\n",
        "y = dataset.iloc[:,1].values  # store the second column as the output (label) in y\n",
        "x_train, x_test, y_train, y_test = train_test_split(X, y, test_size=0.2)\n",
        "\n",
        "print(x_train.shape, y_train.shape)\n",
        "print(x_test.shape, y_test.shape)\n",
        "\n",
        "print(X)\n",
        "#print(y)\n",
        "dataset.head()"
      ],
      "execution_count": 0,
      "outputs": [
        {
          "output_type": "stream",
          "text": [
            "(711, 8) (711,)\n",
            "(178, 8) (178,)\n",
            "[[  3.      73.       1.     ...   0.       7.25     2.    ]\n",
            " [  1.     136.       0.     ...   0.      71.2833   0.    ]\n",
            " [  3.     251.       0.     ...   0.       7.925    2.    ]\n",
            " ...\n",
            " [  3.     292.       0.     ...   2.      23.45     2.    ]\n",
            " [  1.      52.       1.     ...   0.      30.       0.    ]\n",
            " [  3.     159.       1.     ...   0.       7.75     1.    ]]\n"
          ],
          "name": "stdout"
        },
        {
          "output_type": "execute_result",
          "data": {
            "text/html": [
              "<div>\n",
              "<style scoped>\n",
              "    .dataframe tbody tr th:only-of-type {\n",
              "        vertical-align: middle;\n",
              "    }\n",
              "\n",
              "    .dataframe tbody tr th {\n",
              "        vertical-align: top;\n",
              "    }\n",
              "\n",
              "    .dataframe thead th {\n",
              "        text-align: right;\n",
              "    }\n",
              "</style>\n",
              "<table border=\"1\" class=\"dataframe\">\n",
              "  <thead>\n",
              "    <tr style=\"text-align: right;\">\n",
              "      <th></th>\n",
              "      <th>PassengerId</th>\n",
              "      <th>Survived</th>\n",
              "      <th>Pclass</th>\n",
              "      <th>Name</th>\n",
              "      <th>Sex</th>\n",
              "      <th>Age</th>\n",
              "      <th>SibSp</th>\n",
              "      <th>Parch</th>\n",
              "      <th>Fare</th>\n",
              "      <th>Embarked</th>\n",
              "    </tr>\n",
              "  </thead>\n",
              "  <tbody>\n",
              "    <tr>\n",
              "      <th>0</th>\n",
              "      <td>1</td>\n",
              "      <td>0</td>\n",
              "      <td>3</td>\n",
              "      <td>73</td>\n",
              "      <td>1</td>\n",
              "      <td>22.0</td>\n",
              "      <td>1</td>\n",
              "      <td>0</td>\n",
              "      <td>7.2500</td>\n",
              "      <td>2</td>\n",
              "    </tr>\n",
              "    <tr>\n",
              "      <th>1</th>\n",
              "      <td>2</td>\n",
              "      <td>1</td>\n",
              "      <td>1</td>\n",
              "      <td>136</td>\n",
              "      <td>0</td>\n",
              "      <td>38.0</td>\n",
              "      <td>1</td>\n",
              "      <td>0</td>\n",
              "      <td>71.2833</td>\n",
              "      <td>0</td>\n",
              "    </tr>\n",
              "    <tr>\n",
              "      <th>2</th>\n",
              "      <td>3</td>\n",
              "      <td>1</td>\n",
              "      <td>3</td>\n",
              "      <td>251</td>\n",
              "      <td>0</td>\n",
              "      <td>26.0</td>\n",
              "      <td>0</td>\n",
              "      <td>0</td>\n",
              "      <td>7.9250</td>\n",
              "      <td>2</td>\n",
              "    </tr>\n",
              "    <tr>\n",
              "      <th>3</th>\n",
              "      <td>4</td>\n",
              "      <td>1</td>\n",
              "      <td>1</td>\n",
              "      <td>198</td>\n",
              "      <td>0</td>\n",
              "      <td>35.0</td>\n",
              "      <td>1</td>\n",
              "      <td>0</td>\n",
              "      <td>53.1000</td>\n",
              "      <td>2</td>\n",
              "    </tr>\n",
              "    <tr>\n",
              "      <th>4</th>\n",
              "      <td>5</td>\n",
              "      <td>0</td>\n",
              "      <td>3</td>\n",
              "      <td>11</td>\n",
              "      <td>1</td>\n",
              "      <td>35.0</td>\n",
              "      <td>0</td>\n",
              "      <td>0</td>\n",
              "      <td>8.0500</td>\n",
              "      <td>2</td>\n",
              "    </tr>\n",
              "  </tbody>\n",
              "</table>\n",
              "</div>"
            ],
            "text/plain": [
              "   PassengerId  Survived  Pclass  Name  ...  SibSp  Parch     Fare  Embarked\n",
              "0            1         0       3    73  ...      1      0   7.2500         2\n",
              "1            2         1       1   136  ...      1      0  71.2833         0\n",
              "2            3         1       3   251  ...      0      0   7.9250         2\n",
              "3            4         1       1   198  ...      1      0  53.1000         2\n",
              "4            5         0       3    11  ...      0      0   8.0500         2\n",
              "\n",
              "[5 rows x 10 columns]"
            ]
          },
          "metadata": {
            "tags": []
          },
          "execution_count": 888
        }
      ]
    },
    {
      "cell_type": "code",
      "metadata": {
        "id": "WPlolc45jvhO",
        "colab_type": "code",
        "outputId": "927fb8f2-96d2-41be-c57e-de7ec4e5dbea",
        "colab": {
          "base_uri": "https://localhost:8080/",
          "height": 107
        }
      },
      "source": [
        "#Prediction algorithm and accuracy\n",
        "from sklearn.linear_model import LogisticRegression\n",
        "clf=LogisticRegression()\n",
        "clf.fit(x_train, y_train)\n",
        "pred=clf.predict(x_test) #compare with y_test values below\n",
        "y_test\n",
        "print(clf.score(x_test, y_test)) #get \"accuracy\" of prediction Not actual accuracy of prediction, a number similar to it\n",
        "print(\"Accuracy : %.2f\" % (accuracy_score(pred, y_test) * 100)) #GETS ACTUAL ACCURACY"
      ],
      "execution_count": 0,
      "outputs": [
        {
          "output_type": "stream",
          "text": [
            "0.7865168539325843\n",
            "Accuracy : 78.65\n"
          ],
          "name": "stdout"
        },
        {
          "output_type": "stream",
          "text": [
            "/usr/local/lib/python3.6/dist-packages/sklearn/linear_model/logistic.py:432: FutureWarning: Default solver will be changed to 'lbfgs' in 0.22. Specify a solver to silence this warning.\n",
            "  FutureWarning)\n"
          ],
          "name": "stderr"
        }
      ]
    },
    {
      "cell_type": "code",
      "metadata": {
        "id": "kLdJRnmYq8YE",
        "colab_type": "code",
        "outputId": "1ea0a5d5-83f0-4d3a-961d-f97f3192e44e",
        "colab": {
          "base_uri": "https://localhost:8080/",
          "height": 105
        }
      },
      "source": [
        "#Using XGBoost\n",
        "import xgboost as xgb\n",
        "from sklearn.metrics import mean_squared_error, confusion_matrix\n",
        "\n",
        "xgb_model = xgb.XGBClassifier(objective=\"binary:logistic\", random_state=42, max_depth=6,\n",
        "                           learning_rate=0.1,\n",
        "                           n_estimators=100,\n",
        "                           gamma=0,\n",
        "                           subsample=1,\n",
        "                            ) #NOTE: use XGBClassifier NOT Regressor\n",
        "xgb_model.fit(x_train, y_train)\n",
        "y_pred = xgb_model.predict(x_test)\n",
        "mse=mean_squared_error(y_test, y_pred)\n",
        "print('RMSE: ',np.sqrt(mse)) #RMSE (the lower its value the more accurate it is)\n",
        "print(confusion_matrix(y_test, y_pred))\n",
        "print(xgb_model.score(x_test, y_test)) #WTF???? Not actual accuracy of prediction, a number similar to it\n",
        "print(\"Accuracy : %.2f\" % (accuracy_score(y_pred, y_test) * 100)) #GETS ACTUAL ACCURACY\n",
        "\n",
        "# xgb_model = xgb.XGBClassifier(objective=\"multi:softprob\", random_state=42)\n",
        "# xgb_model.fit(x_train, y_train)\n",
        "# y_pred = xgb_model.predict(x_test)\n"
      ],
      "execution_count": 0,
      "outputs": [
        {
          "output_type": "stream",
          "text": [
            "RMSE:  0.4434289272060925\n",
            "[[90 16]\n",
            " [19 53]]\n",
            "0.8033707865168539\n",
            "Accuracy : 80.34\n"
          ],
          "name": "stdout"
        }
      ]
    },
    {
      "cell_type": "code",
      "metadata": {
        "colab_type": "code",
        "id": "02tUfvAQz421",
        "outputId": "cc9fd173-cd67-486d-a401-277511f84233",
        "colab": {
          "base_uri": "https://localhost:8080/",
          "height": 481
        }
      },
      "source": [
        "#NOW FOR test.csv\n",
        "from sklearn.metrics import accuracy_score \n",
        "#if ERROR: Found input variables with inconsistent numbers of samples: [87, 418] => MAKE SURE YOUR results and df FILES HAVE SAME NUMBER OF ROWS\n",
        "df = pd.read_csv('test.csv')\n",
        "df.drop(['Ticket'], axis=1, inplace=True) # delete feature from dataset ; axis=1 means column (0 for row)\n",
        "df.drop(['Cabin'], axis=1, inplace=True)\n",
        "#df=df.dropna() #DON'T DO IT, IT WILL REDUCE NUMBER OF ROWS AND CAUSE ERROR ABOVE\n",
        "df.head()\n",
        "correctResults=pd.read_csv('gender_submission.csv')['Survived']\n",
        "correctResults.head()\n",
        "print(df.shape)\n",
        "\n",
        "#ENCODing\n",
        "encoder2 = preprocessing.LabelEncoder()\n",
        "#encoding sex\n",
        "encoder2.fit(df['Sex']) \n",
        "df['Sex']=encoder2.transform(df['Sex'])\n",
        " \n",
        "# encoding fare \n",
        "\n",
        "#encoding name\n",
        "sep = ',';\n",
        "data2 = [] #temp array used to modify dataset in for loop\n",
        "for data in df['Name']:\n",
        "  data2.append(data.split(sep, 1)[0])\n",
        "df['Name'] = data2\n",
        "\n",
        "encoder2.fit(df['Name'])\n",
        "df['Name']=encoder2.transform(df['Name'])\n",
        "\n",
        "#encode Embarked\n",
        "encoder2.fit(df['Embarked'])\n",
        "df['Embarked']=encoder2.transform(df['Embarked'])\n",
        "\n",
        "\n",
        "#FILLING NULL VALUES\n",
        "#making everything numeric first\n",
        "temp=df[df.columns]\n",
        "temp=temp.convert_objects(convert_numeric=True)\n",
        "temp.head()\n",
        "#replacing null values by mean (the text elements should be encoded and replaced first)\n",
        "dataset.isnull().sum() #to see how much null values we have in each column\n",
        "for i in temp.columns:\n",
        "  df[i]=df[i].fillna(df[i].mean())\n",
        "  print(df[i].isnull().sum())\n",
        "\n",
        "print(df.head())\n",
        "x = df.iloc[:,1:].values # store all columns (excpet first one) as inputs in X\n",
        "print(x)"
      ],
      "execution_count": 0,
      "outputs": [
        {
          "output_type": "stream",
          "text": [
            "/usr/local/lib/python3.6/dist-packages/ipykernel_launcher.py:38: FutureWarning: convert_objects is deprecated.  To re-infer data dtypes for object columns, use DataFrame.infer_objects()\n",
            "For all other conversions use the data-type specific converters pd.to_datetime, pd.to_timedelta and pd.to_numeric.\n"
          ],
          "name": "stderr"
        },
        {
          "output_type": "stream",
          "text": [
            "(418, 9)\n",
            "0\n",
            "0\n",
            "0\n",
            "0\n",
            "0\n",
            "0\n",
            "0\n",
            "0\n",
            "0\n",
            "   PassengerId  Pclass  Name  Sex   Age  SibSp  Parch     Fare  Embarked\n",
            "0          892       3   172    1  34.5      0      0   7.8292         1\n",
            "1          893       3   339    0  47.0      1      0   7.0000         2\n",
            "2          894       2   231    1  62.0      0      0   9.6875         1\n",
            "3          895       3   344    1  27.0      0      0   8.6625         2\n",
            "4          896       3   150    0  22.0      1      1  12.2875         2\n",
            "[[  3.     172.       1.     ...   0.       7.8292   1.    ]\n",
            " [  3.     339.       0.     ...   0.       7.       2.    ]\n",
            " [  2.     231.       1.     ...   0.       9.6875   1.    ]\n",
            " ...\n",
            " [  3.     287.       1.     ...   0.       7.25     2.    ]\n",
            " [  3.     326.       1.     ...   0.       8.05     2.    ]\n",
            " [  3.     261.       1.     ...   1.      22.3583   0.    ]]\n"
          ],
          "name": "stdout"
        }
      ]
    },
    {
      "cell_type": "code",
      "metadata": {
        "id": "PwcTRfAmDdJE",
        "colab_type": "code",
        "outputId": "f3bca3b2-6bb6-4c1e-96d1-e90cb6f16368",
        "colab": {
          "base_uri": "https://localhost:8080/",
          "height": 34
        }
      },
      "source": [
        "#PREDICTING USING clf=LogisticRegression\n",
        "# clf.fit(x, correctResults) #NO NEED TO DO IT AGAIN (DONE IN TRAIN)\n",
        "pred=clf.predict(x)\n",
        "# #clf.score(x, correctResults)\n",
        "print(\"Accuracy : %.2f\" % (accuracy_score(pred, correctResults) * 100)) #GETS ACTUAL ACCURACY\n"
      ],
      "execution_count": 0,
      "outputs": [
        {
          "output_type": "stream",
          "text": [
            "Accuracy : 95.93\n"
          ],
          "name": "stdout"
        }
      ]
    },
    {
      "cell_type": "code",
      "metadata": {
        "id": "-T9gFzjQDaZ7",
        "colab_type": "code",
        "outputId": "c2dc1017-c519-4a62-8a48-7fe2139c5e76",
        "colab": {
          "base_uri": "https://localhost:8080/",
          "height": 34
        }
      },
      "source": [
        "#PREDICTING USING xgb_model\n",
        "pred=xgb_model.predict(x)\n",
        "print(\"Accuracy : %.2f\" % (accuracy_score(pred, correctResults) * 100)) #GETS ACTUAL ACCURACY"
      ],
      "execution_count": 0,
      "outputs": [
        {
          "output_type": "stream",
          "text": [
            "Accuracy : 83.01\n"
          ],
          "name": "stdout"
        }
      ]
    }
  ]
}
